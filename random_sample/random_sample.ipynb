{
 "metadata": {
  "name": ""
 },
 "nbformat": 3,
 "nbformat_minor": 0,
 "worksheets": [
  {
   "cells": [
    {
     "cell_type": "heading",
     "level": 1,
     "metadata": {},
     "source": [
      "# Tree-for-all hackathon 16 Sept 2014"
     ]
    },
    {
     "cell_type": "raw",
     "metadata": {},
     "source": [
      "# AUTHORS: Jonathon Rees and Dilrini De Silva\n",
      "# git clone git@github.com:arlin/sample_taxa.git \n",
      "# git clone https://github.com/OpenTreeOfLife/opentree-interfaces.git\n",
      "# sudo pip install BioPython\n",
      "# sudo pip install CStringIO \n",
      "# sudo pip install matplotlib\n",
      "# sudo pip install numpy\n",
      "# On OS X you need to do the following to get the right numpy:\n",
      "#   PYTHONPATH=/Library/Python/2.7/site-packages:$PYTHONPATH\n",
      "\n",
      "# PYTHONPATH=$PWD/opentree-interfaces/python:$PYTHONPATH\n",
      "# cd sample_taxa/random_sample"
     ]
    },
    {
     "cell_type": "code",
     "collapsed": false,
     "input": [
      "sys.path.append(\"/Users/dilrinidesilva/opentree-interfaces/python\")"
     ],
     "language": "python",
     "metadata": {},
     "outputs": [],
     "prompt_number": 3
    },
    {
     "cell_type": "code",
     "collapsed": false,
     "input": [
      "import sys\n",
      "import argparse\n",
      "import re\n",
      "from cStringIO import StringIO\n",
      "from Bio import Phylo\n",
      "import opentreelib\n",
      "import matplotlib\n",
      "import pylab\n",
      "import numpy as np\n",
      "from ete2 import Tree\n",
      "\n",
      "# use argparse to parse command line arguments, etc.\n",
      "parser = argparse.ArgumentParser(description='Generate an induced subtree by random sampling')\n",
      "parser.add_argument('-t', type=str, dest = 'taxon',\n",
      "                   help='Taxon to sample from')\n",
      "parser.add_argument('-m', dest='sampling_mode',\n",
      "                   help='Sampling mode (Default: random)')\n",
      "parser.add_argument('-n', dest='ntaxa', type=int,\n",
      "                   help='No. of taxa in induced subtree')\n",
      "parser.add_argument('-d', dest='draw', action='store_true',\n",
      "                   help='Draw tree')\n",
      "parser.add_argument('-f', dest='fmt',\n",
      "                   help='Format (pdf,png) (Default: pdf)')\n",
      "parser.add_argument('-o', dest='out',\n",
      "                   help='Out prefix')\n",
      "parser.set_defaults(sampling_mode = \"random\", draw=False, fmt=\"pdf\")\n",
      "\n",
      "args = parser.parse_args(['-t', 'Mammalia', '-m', 'random', '-n', '10','-d', '-o', 'my_induced_subtree_example_mammalia','-f', 'png'])\n",
      "\n",
      "#args = parser.parse_args()"
     ],
     "language": "python",
     "metadata": {},
     "outputs": [],
     "prompt_number": 19
    },
    {
     "cell_type": "markdown",
     "metadata": {},
     "source": [
      "Given a taxon name, find the OTT id of that taxon.\n",
      "Careful about unicode - arg should be unicode.\n",
      "TO BE DONE: Make this robust to unknown names and to homonyms."
     ]
    },
    {
     "cell_type": "code",
     "collapsed": false,
     "input": [
      "# Methods\n",
      "\n",
      "# Given a taxon name retrieve the OTTid\n",
      "\n",
      "def unique_ott_id(name):\n",
      "    tnrs_result = opentreelib.tnrs_match_names([name])\n",
      "    ottid = tnrs_result['results'][0]['matches'][0]['ot:ottId']\n",
      "    return ottid\n",
      "\n",
      "# Given an OTT id, return names and ids of species at or under that\n",
      "# taxon in the taxonomy.\n",
      "\n",
      "def all_species(OTTid):\n",
      "    treeresult = opentreelib.tol_subtree(ott_id = OTTid)\n",
      "    # Look for names of the form Genus epithet\n",
      "    tree = Phylo.read(StringIO(treeresult['newick']), 'newick')\n",
      "\n",
      "    matchSpecies = re.compile('(^[A-Z][a-z]*)_([a-z]+)_ott([0-9]+)$')\n",
      "    species = {}\n",
      "\n",
      "    # Work in progress\n",
      "    def processNode(node):\n",
      "        if isinstance(node.name, str):\n",
      "            m = matchSpecies.search(node.name)\n",
      "            if m != None:\n",
      "                species[m.group(1) + ' ' + m.group(2)] = int(m.group(3))\n",
      "        #else:\n",
      "         #   print \"Node name is not a string\", node.name\n",
      "\n",
      "    for node in tree.get_terminals():\n",
      "        processNode(node)\n",
      "    for node in tree.get_nonterminals():\n",
      "        processNode(node)\n",
      "\n",
      "    return species\n",
      "\n",
      "\n",
      "# Given a list of OTTids, get a random sample\n",
      "def get_random_sample(OTTids_list, length):\n",
      "    x = np.asarray(OTTids_list.values()) # convert to numpy array\n",
      "    subset = np.random.choice(x,size = length, replace =False)\n",
      "    return subset.tolist()\n",
      "\n",
      "# Given a list of OTTids, retrieve the induced tree\n",
      "def subtree_species(species_list):\n",
      "    subtreeresult = opentreelib.tol_induced_tree(ott_ids = species_list)\n",
      "    subtree = Phylo.read(StringIO(subtreeresult['subtree']), 'newick')\n",
      "    return subtree"
     ],
     "language": "python",
     "metadata": {},
     "outputs": [],
     "prompt_number": 5
    },
    {
     "cell_type": "code",
     "collapsed": false,
     "input": [
      "# parameters\n",
      "taxon_name = args.taxon\n",
      "print(taxon_name)\n",
      "mode = args.sampling_mode\n",
      "print(mode)\n",
      "num = args.ntaxa\n",
      "print(num)\n",
      "outprefix = args.out\n",
      "out_fmt = args.fmt"
     ],
     "language": "python",
     "metadata": {},
     "outputs": [
      {
       "output_type": "stream",
       "stream": "stdout",
       "text": [
        "Mammalia\n",
        "random\n",
        "10\n"
       ]
      }
     ],
     "prompt_number": 20
    },
    {
     "cell_type": "code",
     "collapsed": false,
     "input": [
      "my_OTT_id = unique_ott_id(taxon_name)\n",
      "print(my_OTT_id)\n",
      "my_species = all_species(my_OTT_id)"
     ],
     "language": "python",
     "metadata": {},
     "outputs": [
      {
       "output_type": "stream",
       "stream": "stdout",
       "text": [
        "120280\n"
       ]
      }
     ],
     "prompt_number": 15
    },
    {
     "cell_type": "code",
     "collapsed": false,
     "input": [
      "if mode == \"random\":\n",
      "    my_subset_species = get_random_sample(my_species,num)\n",
      "    \n",
      "my_induced_subtree = subtree_species(my_subset_species)"
     ],
     "language": "python",
     "metadata": {},
     "outputs": [],
     "prompt_number": 16
    },
    {
     "cell_type": "code",
     "collapsed": false,
     "input": [
      "# Write newick to file\n",
      "\n",
      "Phylo.write(my_induced_subtree,'{}.nwk'.format(outprefix),'newick')\n",
      "\n",
      "# Convert to ete2 Tree object \n",
      "\n",
      "t = Tree(my_induced_subtree.format('newick')) "
     ],
     "language": "python",
     "metadata": {},
     "outputs": [],
     "prompt_number": 17
    },
    {
     "cell_type": "code",
     "collapsed": false,
     "input": [
      "# Render induced subtree \n",
      "if args.draw:\n",
      "    if out_fmt == \"png\":\n",
      "        t.render('{}.png'.format(outprefix), w=800, h=600, units=\"mm\")\n",
      "    if out_fmt == \"pdf\":\n",
      "        t.render('{}.pdf'.format(outprefix), w=8000, h=6000, units=\"mm\" )"
     ],
     "language": "python",
     "metadata": {},
     "outputs": [],
     "prompt_number": 18
    }
   ],
   "metadata": {}
  }
 ]
}